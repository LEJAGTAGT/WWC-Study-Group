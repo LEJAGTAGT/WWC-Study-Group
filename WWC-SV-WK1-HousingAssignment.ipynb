{
 "cells": [
  {
   "cell_type": "code",
   "execution_count": 54,
   "metadata": {
    "collapsed": true
   },
   "outputs": [],
   "source": [
    "import numpy as np\n",
    "import pandas as pd\n",
    "import matplotlib\n",
    "import matplotlib.pyplot as plt\n",
    "import sklearn\n",
    "from sklearn.cross_validation import train_test_split\n",
    "from sklearn import linear_model\n",
    "from sklearn.metrics import mean_squared_error "
   ]
  },
  {
   "cell_type": "code",
   "execution_count": 2,
   "metadata": {
    "collapsed": true
   },
   "outputs": [],
   "source": [
    "df=pd.read_csv('home_data.csv')"
   ]
  },
  {
   "cell_type": "code",
   "execution_count": 15,
   "metadata": {
    "collapsed": false
   },
   "outputs": [],
   "source": [
    "df_98039=df[['price','zipcode']].query('zipcode == 98039')"
   ]
  },
  {
   "cell_type": "code",
   "execution_count": 56,
   "metadata": {
    "collapsed": false
   },
   "outputs": [
    {
     "data": {
      "text/plain": [
       "2160606.6"
      ]
     },
     "execution_count": 56,
     "metadata": {},
     "output_type": "execute_result"
    }
   ],
   "source": [
    "np.mean(df_98039.price)"
   ]
  },
  {
   "cell_type": "code",
   "execution_count": 58,
   "metadata": {
    "collapsed": false
   },
   "outputs": [
    {
     "data": {
      "text/plain": [
       "2160606.6"
      ]
     },
     "execution_count": 58,
     "metadata": {},
     "output_type": "execute_result"
    }
   ],
   "source": [
    "np.mean(df[df['zipcode']==98039].price)"
   ]
  },
  {
   "cell_type": "code",
   "execution_count": 23,
   "metadata": {
    "collapsed": true
   },
   "outputs": [],
   "source": [
    "df_sqft_living=df.query('sqft_living > 2000 and sqft_living <=4000')"
   ]
  },
  {
   "cell_type": "code",
   "execution_count": 59,
   "metadata": {
    "collapsed": false
   },
   "outputs": [
    {
     "data": {
      "text/plain": [
       "9118"
      ]
     },
     "execution_count": 59,
     "metadata": {},
     "output_type": "execute_result"
    }
   ],
   "source": [
    "df_sqft_living['id'].count()"
   ]
  },
  {
   "cell_type": "code",
   "execution_count": 62,
   "metadata": {
    "collapsed": false
   },
   "outputs": [],
   "source": [
    "fraction_of_sqft_living=df_sqft_living['id'].count() / df['id'].count()"
   ]
  },
  {
   "cell_type": "code",
   "execution_count": 63,
   "metadata": {
    "collapsed": false
   },
   "outputs": [
    {
     "name": "stdout",
     "output_type": "stream",
     "text": [
      "0.421875722945\n"
     ]
    }
   ],
   "source": [
    "print(fraction_of_sqft_living)"
   ]
  },
  {
   "cell_type": "code",
   "execution_count": 35,
   "metadata": {
    "collapsed": false
   },
   "outputs": [],
   "source": [
    "advanced_features = [ 'bedrooms', 'bathrooms', 'sqft_living', 'sqft_lot', 'floors', 'zipcode', 'condition', # condition of house\n",
    " 'grade', # measure of quality of construction\n",
    " 'waterfront', # waterfront property\n",
    " 'view', # type of view\n",
    " 'sqft_above', # square feet above ground\n",
    " 'sqft_basement', # square feet in basement\n",
    " 'yr_built', # the year built\n",
    " 'yr_renovated', # the year renovated\n",
    " 'lat', 'long', # the lat-long of the parcel\n",
    " 'sqft_living15', # average sq.ft. of 15 nearest neighbors\n",
    " 'sqft_lot15', # average lot size of 15 nearest neighbors \n",
    "                    ]"
   ]
  },
  {
   "cell_type": "code",
   "execution_count": 48,
   "metadata": {
    "collapsed": false
   },
   "outputs": [],
   "source": [
    "adv_train_data, adv_test_data = train_test_split(df, test_size=0.2, random_state=0)"
   ]
  },
  {
   "cell_type": "code",
   "execution_count": 50,
   "metadata": {
    "collapsed": false
   },
   "outputs": [
    {
     "data": {
      "text/plain": [
       "LinearRegression(copy_X=True, fit_intercept=True, n_jobs=1, normalize=False)"
      ]
     },
     "execution_count": 50,
     "metadata": {},
     "output_type": "execute_result"
    }
   ],
   "source": [
    "X_adv_train_data=adv_train_data[advanced_features]\n",
    "X_adv_train_data=np.array(X_adv_train_data)\n",
    "\n",
    "y_adv_train_data=adv_train_data.price\n",
    "y_adv_train_data=y_adv_train_data.reshape(-1,1)\n",
    "\n",
    "lreg3=linear_model.LinearRegression()\n",
    "lreg3.fit(X=X_adv_train_data,y=y_adv_train_data)"
   ]
  },
  {
   "cell_type": "code",
   "execution_count": 55,
   "metadata": {
    "collapsed": false
   },
   "outputs": [
    {
     "name": "stdout",
     "output_type": "stream",
     "text": [
      "Max Error: 3210865.09\n",
      "RMSE: 190473.38\n"
     ]
    }
   ],
   "source": [
    "X_adv_test_data=adv_test_data[advanced_features]\n",
    "X_adv_test_data=np.array(X_adv_test_data)\n",
    "\n",
    "y_adv_test_data=adv_test_data.price\n",
    "y_adv_test_data=y_adv_test_data.reshape(-1,1)\n",
    "\n",
    "y_adv_pred=lreg3.predict(X_adv_test_data)\n",
    "\n",
    "print(\"Max Error: %.2f\" %np.max(np.absolute(y_adv_pred-y_adv_test_data)))\n",
    "print(\"RMSE: %.2f\" %np.sqrt(mean_squared_error(y_adv_test_data,y_adv_pred)))"
   ]
  },
  {
   "cell_type": "code",
   "execution_count": null,
   "metadata": {
    "collapsed": true
   },
   "outputs": [],
   "source": []
  }
 ],
 "metadata": {
  "anaconda-cloud": {},
  "kernelspec": {
   "display_name": "Python [Root]",
   "language": "python",
   "name": "Python [Root]"
  },
  "language_info": {
   "codemirror_mode": {
    "name": "ipython",
    "version": 3
   },
   "file_extension": ".py",
   "mimetype": "text/x-python",
   "name": "python",
   "nbconvert_exporter": "python",
   "pygments_lexer": "ipython3",
   "version": "3.5.1"
  }
 },
 "nbformat": 4,
 "nbformat_minor": 0
}
