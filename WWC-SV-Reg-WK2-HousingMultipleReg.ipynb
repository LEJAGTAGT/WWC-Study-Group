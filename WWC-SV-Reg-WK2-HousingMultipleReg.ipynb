{
 "cells": [
  {
   "cell_type": "markdown",
   "metadata": {},
   "source": [
    "# UW - Regression Course - WK2 Assignment 1 - Multiple Regression "
   ]
  },
  {
   "cell_type": "markdown",
   "metadata": {},
   "source": [
    "###### Load Libraries "
   ]
  },
  {
   "cell_type": "code",
   "execution_count": 119,
   "metadata": {
    "collapsed": true
   },
   "outputs": [],
   "source": [
    "import numpy as np\n",
    "import pandas as pd\n",
    "import matplotlib\n",
    "import matplotlib.pyplot as plt\n",
    "import sklearn\n",
    "from sklearn import linear_model\n",
    "from sklearn.cross_validation import train_test_split\n",
    "from sklearn.metrics import mean_squared_error\n",
    "from math import log"
   ]
  },
  {
   "cell_type": "markdown",
   "metadata": {},
   "source": [
    "###### Load Dataset "
   ]
  },
  {
   "cell_type": "markdown",
   "metadata": {},
   "source": [
    "###### 1.  Load in the house data "
   ]
  },
  {
   "cell_type": "code",
   "execution_count": 48,
   "metadata": {
    "collapsed": true
   },
   "outputs": [],
   "source": [
    "df=pd.read_csv('home_data.csv')"
   ]
  },
  {
   "cell_type": "markdown",
   "metadata": {},
   "source": [
    "###### 2.Split into training and test data Use this command to set the same seed for everyone "
   ]
  },
  {
   "cell_type": "code",
   "execution_count": 49,
   "metadata": {
    "collapsed": true
   },
   "outputs": [],
   "source": [
    "train_data, test_data=train_test_split(df, test_size=0.2, random_state=0)"
   ]
  },
  {
   "cell_type": "markdown",
   "metadata": {},
   "source": [
    "###### 3. Although we often think of multiple regression as including multiple different features (e.g. # of bedrooms, square feet, and # of bathrooms) but we can also consider transformations of existing variables e.g. the log of the square feet or even \"interaction\" variables such as the product of bedrooms and bathrooms. Add 4 new variables in both your train_data and test_data. \n",
    "•‘bedrooms_squared’ = ‘bedrooms’*‘bedrooms’\n",
    "•‘bed_bath_rooms’ = ‘bedrooms’*‘bathrooms’\n",
    "•‘log_sqft_living’ = log(‘sqft_living’)\n",
    "•‘lat_plus_long’ = ‘lat’ + ‘long’\n",
    " "
   ]
  },
  {
   "cell_type": "code",
   "execution_count": 51,
   "metadata": {
    "collapsed": false
   },
   "outputs": [],
   "source": [
    "# Computing bedrooms_squared using .apply and lambda\n",
    "# Squaring bedrooms will increase the separation between not many bedrooms (e.g. 1) and lots of bedrooms (e.g. 4) \n",
    "# since 1^2 = 1 but 4^2 = 16. \n",
    "# Consequently this feature will mostly affect houses with many bedrooms."
   ]
  },
  {
   "cell_type": "code",
   "execution_count": 52,
   "metadata": {
    "collapsed": false
   },
   "outputs": [
    {
     "data": {
      "text/plain": [
       "0     9\n",
       "1     9\n",
       "2     4\n",
       "3    16\n",
       "4     9\n",
       "Name: bedrooms_squared, dtype: int64"
      ]
     },
     "execution_count": 52,
     "metadata": {},
     "output_type": "execute_result"
    }
   ],
   "source": [
    "df['bedrooms_squared']=df.bedrooms.apply(lambda x:x**2)\n",
    "df['bedrooms_squared'].head()"
   ]
  },
  {
   "cell_type": "code",
   "execution_count": 53,
   "metadata": {
    "collapsed": false
   },
   "outputs": [],
   "source": [
    "# Computing bed_bath_rooms \n",
    "# Defining a function that passes bedrooms and bathrooms as arguments\n",
    "# Returns the product of bedrooms and bathrooms\n",
    "\n",
    "# bedrooms times bathrooms gives what's called an \"interaction\" feature. It is large when both of them are large."
   ]
  },
  {
   "cell_type": "code",
   "execution_count": 54,
   "metadata": {
    "collapsed": true
   },
   "outputs": [],
   "source": [
    "def multiply(bedbath):\n",
    "    bedrooms,bathrooms=bedbath\n",
    "    return bedrooms*bathrooms"
   ]
  },
  {
   "cell_type": "code",
   "execution_count": 55,
   "metadata": {
    "collapsed": false
   },
   "outputs": [
    {
     "data": {
      "text/plain": [
       "0     3.00\n",
       "1     6.75\n",
       "2     2.00\n",
       "3    12.00\n",
       "4     6.00\n",
       "Name: bed_bath_rooms, dtype: float64"
      ]
     },
     "execution_count": 55,
     "metadata": {},
     "output_type": "execute_result"
    }
   ],
   "source": [
    "df['bed_bath_rooms']=df[['bedrooms','bathrooms']].apply(multiply, axis=1)\n",
    "df['bed_bath_rooms'].head()"
   ]
  },
  {
   "cell_type": "code",
   "execution_count": 56,
   "metadata": {
    "collapsed": true
   },
   "outputs": [],
   "source": [
    "# Computing log_sqft_living using .apply and lambda\n",
    "# Taking the log of squarefeet has the effect of bringing large values closer together and spreading out small values."
   ]
  },
  {
   "cell_type": "code",
   "execution_count": 57,
   "metadata": {
    "collapsed": false
   },
   "outputs": [
    {
     "data": {
      "text/plain": [
       "0    7.073270\n",
       "1    7.851661\n",
       "2    6.646391\n",
       "3    7.580700\n",
       "4    7.426549\n",
       "Name: log_sqft_living, dtype: float64"
      ]
     },
     "execution_count": 57,
     "metadata": {},
     "output_type": "execute_result"
    }
   ],
   "source": [
    "df['log_sqft_living']=df['sqft_living'].apply(lambda x:log(x))\n",
    "df['log_sqft_living'].head()"
   ]
  },
  {
   "cell_type": "code",
   "execution_count": 58,
   "metadata": {
    "collapsed": true
   },
   "outputs": [],
   "source": [
    "# Computing lat_plus_long \n",
    "# Defining a function that passes lat and long as arguments\n",
    "# Returns the sum of lat and long\n",
    "# Adding latitude to longitude is totally non-sensical but we will do it anyway"
   ]
  },
  {
   "cell_type": "code",
   "execution_count": 59,
   "metadata": {
    "collapsed": true
   },
   "outputs": [],
   "source": [
    "def addlatlong(latlong):\n",
    "    lat,long=latlong\n",
    "    return lat+long"
   ]
  },
  {
   "cell_type": "code",
   "execution_count": 60,
   "metadata": {
    "collapsed": false
   },
   "outputs": [
    {
     "data": {
      "text/plain": [
       "0   -74.7458\n",
       "1   -74.5980\n",
       "2   -74.4951\n",
       "3   -74.8722\n",
       "4   -74.4282\n",
       "Name: lat_plus_long, dtype: float64"
      ]
     },
     "execution_count": 60,
     "metadata": {},
     "output_type": "execute_result"
    }
   ],
   "source": [
    "df['lat_plus_long']=df[['lat','long']].apply(addlatlong, axis=1)\n",
    "df['lat_plus_long'].head()"
   ]
  },
  {
   "cell_type": "markdown",
   "metadata": {},
   "source": [
    "###### 4. What are the mean (arithmetic average) values of your 4 new variables on TEST data? (round to 2 digits) "
   ]
  },
  {
   "cell_type": "code",
   "execution_count": 61,
   "metadata": {
    "collapsed": false
   },
   "outputs": [
    {
     "name": "stdout",
     "output_type": "stream",
     "text": [
      "Mean of bedrooms squared: 12.23\n",
      "Mean of bed_bath_rooms: 7.50\n",
      "Mean of log_sqft_living: 7.55\n",
      "Mean of lat_plus_long: -74.65\n"
     ]
    }
   ],
   "source": [
    "#Squaring bedrooms will increase the separation between not many bedrooms (e.g. 1) and lots of bedrooms (e.g. 4) \n",
    "    #since 1^2 = 1 but 4^2 = 16. Consequently this variable will mostly affect houses with many bedrooms.\n",
    "#Bedrooms times bathrooms is what's called an \"interaction\" variable. It is large when both of them are large.\n",
    "#Taking the log of square feet has the effect of bringing large values closer together and spreading out small values.\n",
    "#Adding latitude to longitude is non-sensical but we will do it anyway \n",
    "\n",
    "\n",
    "print(\"Mean of bedrooms squared: %.2f\" %np.mean(df['bedrooms_squared']))\n",
    "print(\"Mean of bed_bath_rooms: %.2f\" %np.mean(df['bed_bath_rooms']))\n",
    "print(\"Mean of log_sqft_living: %.2f\" %np.mean(df['log_sqft_living']))\n",
    "print(\"Mean of lat_plus_long: %.2f\" %np.mean(df['lat_plus_long']))"
   ]
  },
  {
   "cell_type": "markdown",
   "metadata": {},
   "source": [
    "###### 5. Use any regression library/function to estimate the regression coefficients/weights for predicting ‘price’ for the following three models:(In all 3 models include an intercept -- most software does this by default). \n",
    "\n",
    "Model 1: ‘sqft_living’, ‘bedrooms’, ‘bathrooms’, ‘lat’, and ‘long’\n",
    "\n",
    "Model 2: ‘sqft_living’, ‘bedrooms’, ‘bathrooms’, ‘lat’,‘long’, and ‘bed_bath_rooms’\n",
    "\n",
    "Model 3: ‘sqft_living’, ‘bedrooms’, ‘bathrooms’, ‘lat’,‘long’, ‘bed_bath_rooms’, ‘bedrooms_squared’, ‘log_sqft_living’, and ‘lat_plus_long’\n"
   ]
  },
  {
   "cell_type": "code",
   "execution_count": 62,
   "metadata": {
    "collapsed": true
   },
   "outputs": [],
   "source": [
    "# Redo train test split since we add variables to out dataset\n",
    "train_data, test_data=train_test_split(df, test_size=0.2, random_state=0)"
   ]
  },
  {
   "cell_type": "code",
   "execution_count": 63,
   "metadata": {
    "collapsed": false
   },
   "outputs": [],
   "source": [
    "# Defining features for 3 models\n",
    "model_1_features= ['sqft_living', 'bedrooms', 'bathrooms', 'lat', 'long']\n",
    "model_2_features= model_1_features+['bed_bath_rooms']\n",
    "model_3_features= model_2_features+['bedrooms_squared','log_sqft_living','lat_plus_long']"
   ]
  },
  {
   "cell_type": "code",
   "execution_count": 64,
   "metadata": {
    "collapsed": true
   },
   "outputs": [],
   "source": [
    "# Building a function to perform multiple linear regression\n",
    "# Return the intercept and slope\n",
    "# Input the X_features and Y_Observed in training set\n",
    "def MultipleLinearReg(feature,output):\n",
    "    feature=feature\n",
    "    output=output.reshape(-1,1)\n",
    "    model=linear_model.LinearRegression()\n",
    "    model.fit(feature,output)\n",
    "    intercept=model.intercept_\n",
    "    coef=model.coef_\n",
    "    return(intercept,coef) "
   ]
  },
  {
   "cell_type": "code",
   "execution_count": 98,
   "metadata": {
    "collapsed": false
   },
   "outputs": [],
   "source": [
    "lreg1=MultipleLinearReg(train_data[model_1_features],train_data.price)\n",
    "model_1_intercept, model_1_slope=lreg1"
   ]
  },
  {
   "cell_type": "code",
   "execution_count": 99,
   "metadata": {
    "collapsed": false
   },
   "outputs": [],
   "source": [
    "lreg2=MultipleLinearReg(train_data[model_2_features],train_data.price)\n",
    "model_2_intercept, model_2_slope=lreg2"
   ]
  },
  {
   "cell_type": "code",
   "execution_count": 100,
   "metadata": {
    "collapsed": true
   },
   "outputs": [],
   "source": [
    "lreg3=MultipleLinearReg(train_data[model_3_features],train_data.price)\n",
    "model_3_intercept, model_3_slope=lreg3"
   ]
  },
  {
   "cell_type": "code",
   "execution_count": 102,
   "metadata": {
    "collapsed": false
   },
   "outputs": [
    {
     "name": "stdout",
     "output_type": "stream",
     "text": [
      "Model 1: Intercept -70870847.44\n",
      "Model 1: Slope  [[  3.12942011e+02  -5.30962684e+04   1.47770422e+04   6.53983345e+05\n",
      "   -3.25707345e+05]]\n",
      "Model 2: Intercept -68606821.79\n",
      "Model 2: Slope  [[  3.06819574e+02  -1.04604713e+05  -7.01815223e+04   6.50590954e+05\n",
      "   -3.09965761e+05   2.49441476e+04]]\n",
      "Model 3: Intercept -62628451.68\n",
      "Model 3: Slope  [[  5.37808087e+02   2.78048472e+03   1.01363772e+05   5.30798411e+05\n",
      "   -4.09655443e+05  -1.81822573e+04   7.24579880e+02  -5.71030023e+05\n",
      "    1.21142968e+05]]\n"
     ]
    }
   ],
   "source": [
    "print(\"Model 1: Intercept %.2f\" %model_1_intercept)\n",
    "print(\"Model 1: Slope \", model_1_slope)\n",
    "print(\"Model 2: Intercept %.2f\" %model_2_intercept)\n",
    "print(\"Model 2: Slope \", model_2_slope)\n",
    "print(\"Model 3: Intercept %.2f\" %model_3_intercept)\n",
    "print(\"Model 3: Slope \", model_3_slope)"
   ]
  },
  {
   "cell_type": "markdown",
   "metadata": {},
   "source": [
    "###### 6. Quiz Question: What is the sign (positive or negative) for the coefficient/weight for ‘bathrooms’ in Model 1? "
   ]
  },
  {
   "cell_type": "markdown",
   "metadata": {},
   "source": [
    "###### 7. Quiz Question: What is the sign (positive or negative) for the coefficient/weight for ‘bathrooms’ in Model 2? "
   ]
  },
  {
   "cell_type": "markdown",
   "metadata": {},
   "source": [
    "###### 8. Is the sign for the coefficient the same in both models? Think about why this might be the case. "
   ]
  },
  {
   "cell_type": "markdown",
   "metadata": {},
   "source": [
    "###### 9. Now using your three estimated models compute the RSS (Residual Sum of Squares) on the Training data \n",
    "\n",
    "###### 10. Quiz Question: Which model (1, 2 or 3) had the lowest RSS on TRAINING data?\n",
    "\n",
    "###### 11. Now using your three estimated models compute the RSS on the Testing data\n",
    "\n",
    "###### 12. Quiz Question: Which model (1, 2, or 3) had the lowest RSS on TESTING data?\n",
    "\n",
    "###### 13. Did you get the same answer for 9 and 11? Think about why this might be the case.\n"
   ]
  },
  {
   "cell_type": "code",
   "execution_count": 111,
   "metadata": {
    "collapsed": true
   },
   "outputs": [],
   "source": [
    "# Buliding functions to pred and calculate RSS\n",
    "def get_residual_sum_of_squares(feature, output):\n",
    "        feature=np.array(feature)\n",
    "        output=output.reshape(-1,1)\n",
    "        lreg=linear_model.LinearRegression()\n",
    "        lreg.fit(feature,output)\n",
    "        pred=lreg.predict(feature)\n",
    "        RMSE=np.sqrt(mean_squared_error(pred,output))\n",
    "        return(RMSE)"
   ]
  },
  {
   "cell_type": "code",
   "execution_count": 117,
   "metadata": {
    "collapsed": false
   },
   "outputs": [],
   "source": [
    "#RMSE of training dataset\n",
    "Model_1_Train_RMSE=get_residual_sum_of_squares(train_data[model_1_features],train_data.price)\n",
    "Model_2_Train_RMSE=get_residual_sum_of_squares(train_data[model_2_features],train_data.price)\n",
    "Model_3_Train_RMSE=get_residual_sum_of_squares(train_data[model_3_features],train_data.price)\n",
    "\n",
    "#RMSE of testing dataset\n",
    "Model_1_Test_RMSE=get_residual_sum_of_squares(test_data[model_1_features],test_data.price)\n",
    "Model_2_Test_RMSE=get_residual_sum_of_squares(test_data[model_2_features],test_data.price)\n",
    "Model_3_Test_RMSE=get_residual_sum_of_squares(test_data[model_3_features],test_data.price)\n"
   ]
  },
  {
   "cell_type": "code",
   "execution_count": 118,
   "metadata": {
    "collapsed": false
   },
   "outputs": [
    {
     "name": "stdout",
     "output_type": "stream",
     "text": [
      "Model 1 Training RMSE: 238056.96\n",
      "Model 2 Training RMSE: 236955.73\n",
      "Model 3 Training RMSE: 229875.82\n",
      "Model 1 Test RMSE: 221066.48\n",
      "Model 2 Test RMSE: 219737.17\n",
      "Model 3 Test RMSE: 215667.99\n"
     ]
    }
   ],
   "source": [
    "print(\"Model 1 Training RMSE: %.2f\" %Model_1_Train_RMSE)\n",
    "print(\"Model 2 Training RMSE: %.2f\" %Model_2_Train_RMSE)\n",
    "print(\"Model 3 Training RMSE: %.2f\" %Model_3_Train_RMSE)\n",
    "print(\"Model 1 Test RMSE: %.2f\" %Model_1_Test_RMSE)\n",
    "print(\"Model 2 Test RMSE: %.2f\" %Model_2_Test_RMSE)\n",
    "print(\"Model 3 Test RMSE: %.2f\" %Model_3_Test_RMSE)"
   ]
  }
 ],
 "metadata": {
  "anaconda-cloud": {},
  "kernelspec": {
   "display_name": "Python [Root]",
   "language": "python",
   "name": "Python [Root]"
  },
  "language_info": {
   "codemirror_mode": {
    "name": "ipython",
    "version": 3
   },
   "file_extension": ".py",
   "mimetype": "text/x-python",
   "name": "python",
   "nbconvert_exporter": "python",
   "pygments_lexer": "ipython3",
   "version": "3.5.1"
  }
 },
 "nbformat": 4,
 "nbformat_minor": 0
}
